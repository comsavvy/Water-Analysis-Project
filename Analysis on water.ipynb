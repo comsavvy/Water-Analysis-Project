{
 "cells": [
  {
   "cell_type": "markdown",
   "metadata": {},
   "source": [
    "# Method Definitions"
   ]
  },
  {
   "cell_type": "code",
   "execution_count": 29,
   "metadata": {},
   "outputs": [],
   "source": [
    "import pandas as pd\n",
    "import matplotlib.pyplot as plt\n",
    "import seaborn as sns\n",
    "plt.style.use('fivethirtyeight')\n",
    "sns.set_context(font_scale= 3)\n",
    "class Data:     \n",
    "     \n",
    "    '''\n",
    "    Field-> data i.e The Data source\n",
    "    \n",
    "    Functions name:\n",
    "    \n",
    "    *     mimic_surge_error: Generating amount of water below the surge specify\n",
    "    *     waterAmount_150_above: Water amount that is 150 and above\n",
    "    *     waterAmount_150_less: water amount that is below 150\n",
    "    *     waterAmount_0_values: Water amount of zero values\n",
    "    *     fill_waterAmount_of_0_values: Filling the water amount of Zero values\n",
    "    *     leaky_taps: Name of the leaky tap\n",
    "    *     rename_tap: Renaming some incorrect Taps\n",
    "    *     sort_filter_name: Sorting the Filter name orderly\n",
    "    *     visualizing_amount_bar\n",
    "    *     visualizing_amount_location\n",
    "    \n",
    "    '''\n",
    "        \n",
    "    def __init__(self, df):\n",
    "        self.data= df\n",
    "    \n",
    "    def rename_column_name(self, names):\n",
    "        self.data.columns= names\n",
    "    \n",
    "    def mimic_surge_error(self):\n",
    "        surge = int(input(\"Specify surge value: \"))\n",
    "        return self.data[self.data['Amount_water'] <= surge] \n",
    "    \n",
    "    def waterAmount_150_above(self):\n",
    "        amount150=  self.data.loc[self.data[\"Amount_water\"] >=150]\n",
    "        amount500less = amount150[amount150[\"Amount_water\"] < 500]\n",
    "        return amount500less\n",
    "    \n",
    "    def waterAmount_150_less(self):\n",
    "        amount150less= self.data[self.data[\"Amount_water\"] < 150]\n",
    "        return amount150less\n",
    "    \n",
    "    def waterAmount_0_values(self):\n",
    "        zer= self.data['Amount_water']==0\n",
    "        return self.data[zer]\n",
    "    \n",
    "    def fill_waterAmount_of_0_values(self):\n",
    "        self.data['Amount_water']= self.data['Amount_water'].replace(0, self.data['Amount_water'].mean())\n",
    "        return self.data\n",
    "    \n",
    "    def leaky_taps(self):\n",
    "        leak= self.waterAmount_0_values()\n",
    "        return leak.Filter_name\n",
    "    \n",
    "    def rename_tap(self, name):\n",
    "        self.data[\"Filter_name\"].replace(name, inplace= True)\n",
    "        \n",
    "    def sort_filter_name(self):\n",
    "        self.data.sort_values(by= \"Filter_name\", axis = 0, inplace= True)\n",
    "        \n",
    "    def annot(self, splot):\n",
    "        for p in splot.patches:\n",
    "            splot.annotate(format(p.get_height(), '.1f'),\\\n",
    "                   (p.get_x() + p.get_width() / 2., p.get_height()),\\\n",
    "                   ha = 'center', va = 'center',\\\n",
    "                   size=15,\\\n",
    "                   xytext = (0, -12),\\\n",
    "                   textcoords = 'offset points')\n",
    "            \n",
    "    def visualizing_amount_bar(self, df):\n",
    "        splot= sns.barplot(data= df, x= 'Filter_name', y= 'Amount_water', errcolor= 'none')\n",
    "        self.annot(splot)\n",
    "            \n",
    "    def visualizing_amount_location(self, df):\n",
    "        splot= sns.barplot(data= df, x= 'Filter_location', y= 'Amount_water', errcolor= 'none')\n",
    "        self.annot(splot)\n",
    "        \n",
    "    def visualizing_location_count(self, df):\n",
    "        if(isinstance(df, pd.DataFrame)):\n",
    "            splot= sns.countplot(data= df, x= 'Filter_name')\n",
    "            self.annot(splot)\n",
    "        elif(isinstance(df, pd.Series)):\n",
    "            splot=  sns.countplot(x= df)\n",
    "            self.annot(splot)"
   ]
  },
  {
   "cell_type": "markdown",
   "metadata": {},
   "source": [
    "# Loading the Dataset"
   ]
  },
  {
   "cell_type": "code",
   "execution_count": 2,
   "metadata": {},
   "outputs": [],
   "source": [
    "# The dataframe\n",
    "df= pd.read_csv(\"sqlDump.csv\", header= 1, parse_dates= ['Tim'], index_col= \"Tim\")"
   ]
  },
  {
   "cell_type": "code",
   "execution_count": 3,
   "metadata": {
    "scrolled": true
   },
   "outputs": [],
   "source": [
    "data_class= Data(df)"
   ]
  },
  {
   "cell_type": "code",
   "execution_count": 4,
   "metadata": {},
   "outputs": [
    {
     "data": {
      "text/html": [
       "<div>\n",
       "<style scoped>\n",
       "    .dataframe tbody tr th:only-of-type {\n",
       "        vertical-align: middle;\n",
       "    }\n",
       "\n",
       "    .dataframe tbody tr th {\n",
       "        vertical-align: top;\n",
       "    }\n",
       "\n",
       "    .dataframe thead th {\n",
       "        text-align: right;\n",
       "    }\n",
       "</style>\n",
       "<table border=\"1\" class=\"dataframe\">\n",
       "  <thead>\n",
       "    <tr style=\"text-align: right;\">\n",
       "      <th></th>\n",
       "      <th>Filter_Name</th>\n",
       "      <th>Filter_Location</th>\n",
       "      <th>Filter_Location.1</th>\n",
       "      <th>Filter_Location.2</th>\n",
       "    </tr>\n",
       "    <tr>\n",
       "      <th>Tim</th>\n",
       "      <th></th>\n",
       "      <th></th>\n",
       "      <th></th>\n",
       "      <th></th>\n",
       "    </tr>\n",
       "  </thead>\n",
       "  <tbody>\n",
       "    <tr>\n",
       "      <th>2020-03-05 09:57:14</th>\n",
       "      <td>Tap 6</td>\n",
       "      <td>Faisal Town B Block</td>\n",
       "      <td>34.0</td>\n",
       "      <td>17</td>\n",
       "    </tr>\n",
       "    <tr>\n",
       "      <th>2020-03-05 09:57:13</th>\n",
       "      <td>Tap 6</td>\n",
       "      <td>Faisal Town B Block</td>\n",
       "      <td>66.0</td>\n",
       "      <td>33</td>\n",
       "    </tr>\n",
       "    <tr>\n",
       "      <th>2020-03-05 09:57:12</th>\n",
       "      <td>Tap 6</td>\n",
       "      <td>Faisal Town B Block</td>\n",
       "      <td>72.0</td>\n",
       "      <td>36</td>\n",
       "    </tr>\n",
       "    <tr>\n",
       "      <th>2020-03-05 09:57:11</th>\n",
       "      <td>Tap 6</td>\n",
       "      <td>Faisal Town B Block</td>\n",
       "      <td>72.0</td>\n",
       "      <td>36</td>\n",
       "    </tr>\n",
       "    <tr>\n",
       "      <th>2020-03-05 09:57:10</th>\n",
       "      <td>Tap 6</td>\n",
       "      <td>Faisal Town B Block</td>\n",
       "      <td>69.0</td>\n",
       "      <td>34</td>\n",
       "    </tr>\n",
       "  </tbody>\n",
       "</table>\n",
       "</div>"
      ],
      "text/plain": [
       "                    Filter_Name      Filter_Location  Filter_Location.1  \\\n",
       "Tim                                                                       \n",
       "2020-03-05 09:57:14       Tap 6  Faisal Town B Block               34.0   \n",
       "2020-03-05 09:57:13       Tap 6  Faisal Town B Block               66.0   \n",
       "2020-03-05 09:57:12       Tap 6  Faisal Town B Block               72.0   \n",
       "2020-03-05 09:57:11       Tap 6  Faisal Town B Block               72.0   \n",
       "2020-03-05 09:57:10       Tap 6  Faisal Town B Block               69.0   \n",
       "\n",
       "                     Filter_Location.2  \n",
       "Tim                                     \n",
       "2020-03-05 09:57:14                 17  \n",
       "2020-03-05 09:57:13                 33  \n",
       "2020-03-05 09:57:12                 36  \n",
       "2020-03-05 09:57:11                 36  \n",
       "2020-03-05 09:57:10                 34  "
      ]
     },
     "execution_count": 4,
     "metadata": {},
     "output_type": "execute_result"
    }
   ],
   "source": [
    "data_class.data.head()"
   ]
  },
  {
   "cell_type": "markdown",
   "metadata": {},
   "source": [
    "# Renaming the Column Header"
   ]
  },
  {
   "cell_type": "code",
   "execution_count": 5,
   "metadata": {},
   "outputs": [],
   "source": [
    "data_class.rename_column_name([\"Filter_name\", 'Filter_location', \"Amount_water\", \"Pulses\"])"
   ]
  },
  {
   "cell_type": "code",
   "execution_count": 6,
   "metadata": {},
   "outputs": [
    {
     "data": {
      "text/html": [
       "<div>\n",
       "<style scoped>\n",
       "    .dataframe tbody tr th:only-of-type {\n",
       "        vertical-align: middle;\n",
       "    }\n",
       "\n",
       "    .dataframe tbody tr th {\n",
       "        vertical-align: top;\n",
       "    }\n",
       "\n",
       "    .dataframe thead th {\n",
       "        text-align: right;\n",
       "    }\n",
       "</style>\n",
       "<table border=\"1\" class=\"dataframe\">\n",
       "  <thead>\n",
       "    <tr style=\"text-align: right;\">\n",
       "      <th></th>\n",
       "      <th>Filter_name</th>\n",
       "      <th>Filter_location</th>\n",
       "      <th>Amount_water</th>\n",
       "      <th>Pulses</th>\n",
       "    </tr>\n",
       "    <tr>\n",
       "      <th>Tim</th>\n",
       "      <th></th>\n",
       "      <th></th>\n",
       "      <th></th>\n",
       "      <th></th>\n",
       "    </tr>\n",
       "  </thead>\n",
       "  <tbody>\n",
       "    <tr>\n",
       "      <th>2020-03-05 09:57:14</th>\n",
       "      <td>Tap 6</td>\n",
       "      <td>Faisal Town B Block</td>\n",
       "      <td>34.0</td>\n",
       "      <td>17</td>\n",
       "    </tr>\n",
       "    <tr>\n",
       "      <th>2020-03-05 09:57:13</th>\n",
       "      <td>Tap 6</td>\n",
       "      <td>Faisal Town B Block</td>\n",
       "      <td>66.0</td>\n",
       "      <td>33</td>\n",
       "    </tr>\n",
       "    <tr>\n",
       "      <th>2020-03-05 09:57:12</th>\n",
       "      <td>Tap 6</td>\n",
       "      <td>Faisal Town B Block</td>\n",
       "      <td>72.0</td>\n",
       "      <td>36</td>\n",
       "    </tr>\n",
       "    <tr>\n",
       "      <th>2020-03-05 09:57:11</th>\n",
       "      <td>Tap 6</td>\n",
       "      <td>Faisal Town B Block</td>\n",
       "      <td>72.0</td>\n",
       "      <td>36</td>\n",
       "    </tr>\n",
       "    <tr>\n",
       "      <th>2020-03-05 09:57:10</th>\n",
       "      <td>Tap 6</td>\n",
       "      <td>Faisal Town B Block</td>\n",
       "      <td>69.0</td>\n",
       "      <td>34</td>\n",
       "    </tr>\n",
       "  </tbody>\n",
       "</table>\n",
       "</div>"
      ],
      "text/plain": [
       "                    Filter_name      Filter_location  Amount_water  Pulses\n",
       "Tim                                                                       \n",
       "2020-03-05 09:57:14       Tap 6  Faisal Town B Block          34.0      17\n",
       "2020-03-05 09:57:13       Tap 6  Faisal Town B Block          66.0      33\n",
       "2020-03-05 09:57:12       Tap 6  Faisal Town B Block          72.0      36\n",
       "2020-03-05 09:57:11       Tap 6  Faisal Town B Block          72.0      36\n",
       "2020-03-05 09:57:10       Tap 6  Faisal Town B Block          69.0      34"
      ]
     },
     "execution_count": 6,
     "metadata": {},
     "output_type": "execute_result"
    }
   ],
   "source": [
    "data_class.data.head()"
   ]
  },
  {
   "cell_type": "markdown",
   "metadata": {},
   "source": [
    "# Sorting the Filter name orderly"
   ]
  },
  {
   "cell_type": "code",
   "execution_count": 7,
   "metadata": {},
   "outputs": [],
   "source": [
    "data_class.sort_filter_name()"
   ]
  },
  {
   "cell_type": "code",
   "execution_count": 8,
   "metadata": {},
   "outputs": [
    {
     "data": {
      "text/html": [
       "<div>\n",
       "<style scoped>\n",
       "    .dataframe tbody tr th:only-of-type {\n",
       "        vertical-align: middle;\n",
       "    }\n",
       "\n",
       "    .dataframe tbody tr th {\n",
       "        vertical-align: top;\n",
       "    }\n",
       "\n",
       "    .dataframe thead th {\n",
       "        text-align: right;\n",
       "    }\n",
       "</style>\n",
       "<table border=\"1\" class=\"dataframe\">\n",
       "  <thead>\n",
       "    <tr style=\"text-align: right;\">\n",
       "      <th></th>\n",
       "      <th>Filter_name</th>\n",
       "      <th>Filter_location</th>\n",
       "      <th>Amount_water</th>\n",
       "      <th>Pulses</th>\n",
       "    </tr>\n",
       "    <tr>\n",
       "      <th>Tim</th>\n",
       "      <th></th>\n",
       "      <th></th>\n",
       "      <th></th>\n",
       "      <th></th>\n",
       "    </tr>\n",
       "  </thead>\n",
       "  <tbody>\n",
       "    <tr>\n",
       "      <th>2020-03-03 18:31:21</th>\n",
       "      <td>ITU_Tap1</td>\n",
       "      <td>ITU Lahore</td>\n",
       "      <td>403.329987</td>\n",
       "      <td>201</td>\n",
       "    </tr>\n",
       "    <tr>\n",
       "      <th>2020-03-03 15:37:44</th>\n",
       "      <td>ITU_Tap1</td>\n",
       "      <td>ITU Lahore</td>\n",
       "      <td>403.329987</td>\n",
       "      <td>201</td>\n",
       "    </tr>\n",
       "    <tr>\n",
       "      <th>2020-03-03 10:17:21</th>\n",
       "      <td>ITU_Tap1</td>\n",
       "      <td>ITU Lahore</td>\n",
       "      <td>403.329987</td>\n",
       "      <td>201</td>\n",
       "    </tr>\n",
       "    <tr>\n",
       "      <th>2020-03-03 10:10:32</th>\n",
       "      <td>ITU_Tap1</td>\n",
       "      <td>ITU Lahore</td>\n",
       "      <td>503.559998</td>\n",
       "      <td>251</td>\n",
       "    </tr>\n",
       "    <tr>\n",
       "      <th>2020-03-03 13:47:07</th>\n",
       "      <td>ITU_Tap2</td>\n",
       "      <td>ITU Lahore</td>\n",
       "      <td>435.109985</td>\n",
       "      <td>217</td>\n",
       "    </tr>\n",
       "  </tbody>\n",
       "</table>\n",
       "</div>"
      ],
      "text/plain": [
       "                    Filter_name Filter_location  Amount_water  Pulses\n",
       "Tim                                                                  \n",
       "2020-03-03 18:31:21    ITU_Tap1      ITU Lahore    403.329987     201\n",
       "2020-03-03 15:37:44    ITU_Tap1      ITU Lahore    403.329987     201\n",
       "2020-03-03 10:17:21    ITU_Tap1      ITU Lahore    403.329987     201\n",
       "2020-03-03 10:10:32    ITU_Tap1      ITU Lahore    503.559998     251\n",
       "2020-03-03 13:47:07    ITU_Tap2      ITU Lahore    435.109985     217"
      ]
     },
     "execution_count": 8,
     "metadata": {},
     "output_type": "execute_result"
    }
   ],
   "source": [
    "data_class.data.head()"
   ]
  },
  {
   "cell_type": "markdown",
   "metadata": {},
   "source": [
    "# Renaming incorrect Filter name"
   ]
  },
  {
   "cell_type": "code",
   "execution_count": 9,
   "metadata": {},
   "outputs": [],
   "source": [
    "data_class.rename_tap({\n",
    "    'ITU_Tap2': 'Tap 2',\n",
    "    'ITU_Tap1': \"Tap 1\",\n",
    "    'ITU_Tap3': 'Tap 3'\n",
    "})"
   ]
  },
  {
   "cell_type": "code",
   "execution_count": 10,
   "metadata": {},
   "outputs": [
    {
     "data": {
      "text/html": [
       "<div>\n",
       "<style scoped>\n",
       "    .dataframe tbody tr th:only-of-type {\n",
       "        vertical-align: middle;\n",
       "    }\n",
       "\n",
       "    .dataframe tbody tr th {\n",
       "        vertical-align: top;\n",
       "    }\n",
       "\n",
       "    .dataframe thead th {\n",
       "        text-align: right;\n",
       "    }\n",
       "</style>\n",
       "<table border=\"1\" class=\"dataframe\">\n",
       "  <thead>\n",
       "    <tr style=\"text-align: right;\">\n",
       "      <th></th>\n",
       "      <th>Filter_name</th>\n",
       "      <th>Filter_location</th>\n",
       "      <th>Amount_water</th>\n",
       "      <th>Pulses</th>\n",
       "    </tr>\n",
       "    <tr>\n",
       "      <th>Tim</th>\n",
       "      <th></th>\n",
       "      <th></th>\n",
       "      <th></th>\n",
       "      <th></th>\n",
       "    </tr>\n",
       "  </thead>\n",
       "  <tbody>\n",
       "    <tr>\n",
       "      <th>2020-03-03 18:31:21</th>\n",
       "      <td>Tap 1</td>\n",
       "      <td>ITU Lahore</td>\n",
       "      <td>403.329987</td>\n",
       "      <td>201</td>\n",
       "    </tr>\n",
       "    <tr>\n",
       "      <th>2020-03-03 15:37:44</th>\n",
       "      <td>Tap 1</td>\n",
       "      <td>ITU Lahore</td>\n",
       "      <td>403.329987</td>\n",
       "      <td>201</td>\n",
       "    </tr>\n",
       "    <tr>\n",
       "      <th>2020-03-03 10:17:21</th>\n",
       "      <td>Tap 1</td>\n",
       "      <td>ITU Lahore</td>\n",
       "      <td>403.329987</td>\n",
       "      <td>201</td>\n",
       "    </tr>\n",
       "    <tr>\n",
       "      <th>2020-03-03 10:10:32</th>\n",
       "      <td>Tap 1</td>\n",
       "      <td>ITU Lahore</td>\n",
       "      <td>503.559998</td>\n",
       "      <td>251</td>\n",
       "    </tr>\n",
       "    <tr>\n",
       "      <th>2020-03-03 13:47:07</th>\n",
       "      <td>Tap 2</td>\n",
       "      <td>ITU Lahore</td>\n",
       "      <td>435.109985</td>\n",
       "      <td>217</td>\n",
       "    </tr>\n",
       "  </tbody>\n",
       "</table>\n",
       "</div>"
      ],
      "text/plain": [
       "                    Filter_name Filter_location  Amount_water  Pulses\n",
       "Tim                                                                  \n",
       "2020-03-03 18:31:21       Tap 1      ITU Lahore    403.329987     201\n",
       "2020-03-03 15:37:44       Tap 1      ITU Lahore    403.329987     201\n",
       "2020-03-03 10:17:21       Tap 1      ITU Lahore    403.329987     201\n",
       "2020-03-03 10:10:32       Tap 1      ITU Lahore    503.559998     251\n",
       "2020-03-03 13:47:07       Tap 2      ITU Lahore    435.109985     217"
      ]
     },
     "execution_count": 10,
     "metadata": {},
     "output_type": "execute_result"
    }
   ],
   "source": [
    "data_class.data.head()"
   ]
  },
  {
   "cell_type": "code",
   "execution_count": 11,
   "metadata": {},
   "outputs": [],
   "source": [
    "data_class.sort_filter_name()"
   ]
  },
  {
   "cell_type": "code",
   "execution_count": 12,
   "metadata": {},
   "outputs": [
    {
     "data": {
      "text/html": [
       "<div>\n",
       "<style scoped>\n",
       "    .dataframe tbody tr th:only-of-type {\n",
       "        vertical-align: middle;\n",
       "    }\n",
       "\n",
       "    .dataframe tbody tr th {\n",
       "        vertical-align: top;\n",
       "    }\n",
       "\n",
       "    .dataframe thead th {\n",
       "        text-align: right;\n",
       "    }\n",
       "</style>\n",
       "<table border=\"1\" class=\"dataframe\">\n",
       "  <thead>\n",
       "    <tr style=\"text-align: right;\">\n",
       "      <th></th>\n",
       "      <th>Filter_name</th>\n",
       "      <th>Filter_location</th>\n",
       "      <th>Amount_water</th>\n",
       "      <th>Pulses</th>\n",
       "    </tr>\n",
       "    <tr>\n",
       "      <th>Tim</th>\n",
       "      <th></th>\n",
       "      <th></th>\n",
       "      <th></th>\n",
       "      <th></th>\n",
       "    </tr>\n",
       "  </thead>\n",
       "  <tbody>\n",
       "    <tr>\n",
       "      <th>2020-03-03 18:31:21</th>\n",
       "      <td>Tap 1</td>\n",
       "      <td>ITU Lahore</td>\n",
       "      <td>403.329987</td>\n",
       "      <td>201</td>\n",
       "    </tr>\n",
       "    <tr>\n",
       "      <th>2020-03-02 20:06:38</th>\n",
       "      <td>Tap 1</td>\n",
       "      <td>Faisal Town B Block</td>\n",
       "      <td>98.000000</td>\n",
       "      <td>49</td>\n",
       "    </tr>\n",
       "    <tr>\n",
       "      <th>2020-03-02 20:06:39</th>\n",
       "      <td>Tap 1</td>\n",
       "      <td>Faisal Town B Block</td>\n",
       "      <td>98.000000</td>\n",
       "      <td>49</td>\n",
       "    </tr>\n",
       "    <tr>\n",
       "      <th>2020-03-02 20:06:40</th>\n",
       "      <td>Tap 1</td>\n",
       "      <td>Faisal Town B Block</td>\n",
       "      <td>98.000000</td>\n",
       "      <td>49</td>\n",
       "    </tr>\n",
       "    <tr>\n",
       "      <th>2020-03-02 20:06:41</th>\n",
       "      <td>Tap 1</td>\n",
       "      <td>Faisal Town B Block</td>\n",
       "      <td>98.000000</td>\n",
       "      <td>49</td>\n",
       "    </tr>\n",
       "  </tbody>\n",
       "</table>\n",
       "</div>"
      ],
      "text/plain": [
       "                    Filter_name      Filter_location  Amount_water  Pulses\n",
       "Tim                                                                       \n",
       "2020-03-03 18:31:21       Tap 1           ITU Lahore    403.329987     201\n",
       "2020-03-02 20:06:38       Tap 1  Faisal Town B Block     98.000000      49\n",
       "2020-03-02 20:06:39       Tap 1  Faisal Town B Block     98.000000      49\n",
       "2020-03-02 20:06:40       Tap 1  Faisal Town B Block     98.000000      49\n",
       "2020-03-02 20:06:41       Tap 1  Faisal Town B Block     98.000000      49"
      ]
     },
     "execution_count": 12,
     "metadata": {},
     "output_type": "execute_result"
    }
   ],
   "source": [
    "data_class.data.head()"
   ]
  },
  {
   "cell_type": "markdown",
   "metadata": {},
   "source": [
    "**Question 1.** ```Create functions that mimic the characterize errors - here, assuming I\n",
    "want to check for surge error, I should be able to call this function\n",
    "directly.```"
   ]
  },
  {
   "cell_type": "code",
   "execution_count": 13,
   "metadata": {
    "scrolled": true
   },
   "outputs": [
    {
     "name": "stdout",
     "output_type": "stream",
     "text": [
      "Specify surge value: 120\n"
     ]
    }
   ],
   "source": [
    "specify_surge= data_class.mimic_surge_error()"
   ]
  },
  {
   "cell_type": "code",
   "execution_count": 14,
   "metadata": {
    "scrolled": false
   },
   "outputs": [
    {
     "data": {
      "text/html": [
       "<div>\n",
       "<style scoped>\n",
       "    .dataframe tbody tr th:only-of-type {\n",
       "        vertical-align: middle;\n",
       "    }\n",
       "\n",
       "    .dataframe tbody tr th {\n",
       "        vertical-align: top;\n",
       "    }\n",
       "\n",
       "    .dataframe thead th {\n",
       "        text-align: right;\n",
       "    }\n",
       "</style>\n",
       "<table border=\"1\" class=\"dataframe\">\n",
       "  <thead>\n",
       "    <tr style=\"text-align: right;\">\n",
       "      <th></th>\n",
       "      <th>Filter_name</th>\n",
       "      <th>Filter_location</th>\n",
       "      <th>Amount_water</th>\n",
       "      <th>Pulses</th>\n",
       "    </tr>\n",
       "    <tr>\n",
       "      <th>Tim</th>\n",
       "      <th></th>\n",
       "      <th></th>\n",
       "      <th></th>\n",
       "      <th></th>\n",
       "    </tr>\n",
       "  </thead>\n",
       "  <tbody>\n",
       "    <tr>\n",
       "      <th>2020-03-02 20:06:38</th>\n",
       "      <td>Tap 1</td>\n",
       "      <td>Faisal Town B Block</td>\n",
       "      <td>98.0</td>\n",
       "      <td>49</td>\n",
       "    </tr>\n",
       "    <tr>\n",
       "      <th>2020-03-02 20:06:39</th>\n",
       "      <td>Tap 1</td>\n",
       "      <td>Faisal Town B Block</td>\n",
       "      <td>98.0</td>\n",
       "      <td>49</td>\n",
       "    </tr>\n",
       "    <tr>\n",
       "      <th>2020-03-02 20:06:40</th>\n",
       "      <td>Tap 1</td>\n",
       "      <td>Faisal Town B Block</td>\n",
       "      <td>98.0</td>\n",
       "      <td>49</td>\n",
       "    </tr>\n",
       "    <tr>\n",
       "      <th>2020-03-02 20:06:41</th>\n",
       "      <td>Tap 1</td>\n",
       "      <td>Faisal Town B Block</td>\n",
       "      <td>98.0</td>\n",
       "      <td>49</td>\n",
       "    </tr>\n",
       "    <tr>\n",
       "      <th>2020-03-02 20:06:42</th>\n",
       "      <td>Tap 1</td>\n",
       "      <td>Faisal Town B Block</td>\n",
       "      <td>98.0</td>\n",
       "      <td>49</td>\n",
       "    </tr>\n",
       "  </tbody>\n",
       "</table>\n",
       "</div>"
      ],
      "text/plain": [
       "                    Filter_name      Filter_location  Amount_water  Pulses\n",
       "Tim                                                                       \n",
       "2020-03-02 20:06:38       Tap 1  Faisal Town B Block          98.0      49\n",
       "2020-03-02 20:06:39       Tap 1  Faisal Town B Block          98.0      49\n",
       "2020-03-02 20:06:40       Tap 1  Faisal Town B Block          98.0      49\n",
       "2020-03-02 20:06:41       Tap 1  Faisal Town B Block          98.0      49\n",
       "2020-03-02 20:06:42       Tap 1  Faisal Town B Block          98.0      49"
      ]
     },
     "execution_count": 14,
     "metadata": {},
     "output_type": "execute_result"
    }
   ],
   "source": [
    "specify_surge.head()"
   ]
  },
  {
   "cell_type": "code",
   "execution_count": 15,
   "metadata": {},
   "outputs": [
    {
     "data": {
      "text/html": [
       "<div>\n",
       "<style scoped>\n",
       "    .dataframe tbody tr th:only-of-type {\n",
       "        vertical-align: middle;\n",
       "    }\n",
       "\n",
       "    .dataframe tbody tr th {\n",
       "        vertical-align: top;\n",
       "    }\n",
       "\n",
       "    .dataframe thead th {\n",
       "        text-align: right;\n",
       "    }\n",
       "</style>\n",
       "<table border=\"1\" class=\"dataframe\">\n",
       "  <thead>\n",
       "    <tr style=\"text-align: right;\">\n",
       "      <th></th>\n",
       "      <th>Filter_name</th>\n",
       "      <th>Filter_location</th>\n",
       "      <th>Amount_water</th>\n",
       "      <th>Pulses</th>\n",
       "    </tr>\n",
       "    <tr>\n",
       "      <th>Tim</th>\n",
       "      <th></th>\n",
       "      <th></th>\n",
       "      <th></th>\n",
       "      <th></th>\n",
       "    </tr>\n",
       "  </thead>\n",
       "  <tbody>\n",
       "    <tr>\n",
       "      <th>2020-03-03 07:11:59</th>\n",
       "      <td>Tap 7</td>\n",
       "      <td>Faisal Town B Block</td>\n",
       "      <td>109.0</td>\n",
       "      <td>54</td>\n",
       "    </tr>\n",
       "    <tr>\n",
       "      <th>2020-03-04 12:09:43</th>\n",
       "      <td>Tap 7</td>\n",
       "      <td>Johar Town B1 Block</td>\n",
       "      <td>104.0</td>\n",
       "      <td>52</td>\n",
       "    </tr>\n",
       "    <tr>\n",
       "      <th>2020-03-03 08:29:25</th>\n",
       "      <td>Tap 7</td>\n",
       "      <td>Faisal Town B Block</td>\n",
       "      <td>0.0</td>\n",
       "      <td>0</td>\n",
       "    </tr>\n",
       "    <tr>\n",
       "      <th>2020-03-04 12:09:46</th>\n",
       "      <td>Tap 7</td>\n",
       "      <td>Johar Town B1 Block</td>\n",
       "      <td>106.0</td>\n",
       "      <td>53</td>\n",
       "    </tr>\n",
       "    <tr>\n",
       "      <th>2020-03-03 07:49:38</th>\n",
       "      <td>Tap 7</td>\n",
       "      <td>Faisal Town B Block</td>\n",
       "      <td>98.0</td>\n",
       "      <td>49</td>\n",
       "    </tr>\n",
       "  </tbody>\n",
       "</table>\n",
       "</div>"
      ],
      "text/plain": [
       "                    Filter_name      Filter_location  Amount_water  Pulses\n",
       "Tim                                                                       \n",
       "2020-03-03 07:11:59       Tap 7  Faisal Town B Block         109.0      54\n",
       "2020-03-04 12:09:43       Tap 7  Johar Town B1 Block         104.0      52\n",
       "2020-03-03 08:29:25       Tap 7  Faisal Town B Block           0.0       0\n",
       "2020-03-04 12:09:46       Tap 7  Johar Town B1 Block         106.0      53\n",
       "2020-03-03 07:49:38       Tap 7  Faisal Town B Block          98.0      49"
      ]
     },
     "execution_count": 15,
     "metadata": {},
     "output_type": "execute_result"
    }
   ],
   "source": [
    "specify_surge.tail()"
   ]
  },
  {
   "cell_type": "markdown",
   "metadata": {},
   "source": [
    "# Visualizing surge error"
   ]
  },
  {
   "cell_type": "code",
   "execution_count": 16,
   "metadata": {
    "scrolled": false
   },
   "outputs": [
    {
     "data": {
      "image/png": "[encoded data removed]",
      "text/plain": [
       "<Figure size 936x504 with 1 Axes>"
      ]
     },
     "metadata": {
      "needs_background": "light"
     },
     "output_type": "display_data"
    }
   ],
   "source": [
    "plt.figure(figsize= (13, 7))\n",
    "data_class.visualizing_amount_bar(specify_surge)"
   ]
  },
  {
   "cell_type": "code",
   "execution_count": 17,
   "metadata": {},
   "outputs": [
    {
     "data": {
      "image/png": "[encoded data removed]",
      "text/plain": [
       "<Figure size 792x504 with 1 Axes>"
      ]
     },
     "metadata": {
      "needs_background": "light"
     },
     "output_type": "display_data"
    }
   ],
   "source": [
    "plt.figure(figsize= (11, 7))\n",
    "plt.xticks(rotation= 45)\n",
    "data_class.visualizing_amount_location(specify_surge)\n"
   ]
  },
  {
   "cell_type": "markdown",
   "metadata": {},
   "source": [
    "**Question 2.** ```Create a function that checks “Amount_Water” for data that is 150ml\n",
    "and above but less than 500ml - the essence of this is that 150ml is the\n",
    "standard amount of water per transaction. This would be a check for\n",
    "successful transactions (meaning someone fetches the right amount of\n",
    "water)```"
   ]
  },
  {
   "cell_type": "code",
   "execution_count": 18,
   "metadata": {},
   "outputs": [
    {
     "data": {
      "text/html": [
       "<div>\n",
       "<style scoped>\n",
       "    .dataframe tbody tr th:only-of-type {\n",
       "        vertical-align: middle;\n",
       "    }\n",
       "\n",
       "    .dataframe tbody tr th {\n",
       "        vertical-align: top;\n",
       "    }\n",
       "\n",
       "    .dataframe thead th {\n",
       "        text-align: right;\n",
       "    }\n",
       "</style>\n",
       "<table border=\"1\" class=\"dataframe\">\n",
       "  <thead>\n",
       "    <tr style=\"text-align: right;\">\n",
       "      <th></th>\n",
       "      <th>Filter_name</th>\n",
       "      <th>Filter_location</th>\n",
       "      <th>Amount_water</th>\n",
       "      <th>Pulses</th>\n",
       "    </tr>\n",
       "    <tr>\n",
       "      <th>Tim</th>\n",
       "      <th></th>\n",
       "      <th></th>\n",
       "      <th></th>\n",
       "      <th></th>\n",
       "    </tr>\n",
       "  </thead>\n",
       "  <tbody>\n",
       "    <tr>\n",
       "      <th>2020-03-03 18:31:21</th>\n",
       "      <td>Tap 1</td>\n",
       "      <td>ITU Lahore</td>\n",
       "      <td>403.329987</td>\n",
       "      <td>201</td>\n",
       "    </tr>\n",
       "    <tr>\n",
       "      <th>2020-03-02 20:06:49</th>\n",
       "      <td>Tap 1</td>\n",
       "      <td>Faisal Town B Block</td>\n",
       "      <td>229.000000</td>\n",
       "      <td>114</td>\n",
       "    </tr>\n",
       "    <tr>\n",
       "      <th>2020-03-02 20:04:49</th>\n",
       "      <td>Tap 1</td>\n",
       "      <td>Faisal Town B Block</td>\n",
       "      <td>242.000000</td>\n",
       "      <td>121</td>\n",
       "    </tr>\n",
       "    <tr>\n",
       "      <th>2020-03-02 20:05:49</th>\n",
       "      <td>Tap 1</td>\n",
       "      <td>Faisal Town B Block</td>\n",
       "      <td>234.000000</td>\n",
       "      <td>117</td>\n",
       "    </tr>\n",
       "    <tr>\n",
       "      <th>2020-03-03 18:53:14</th>\n",
       "      <td>Tap 1</td>\n",
       "      <td>Faisal Town B Block</td>\n",
       "      <td>224.000000</td>\n",
       "      <td>112</td>\n",
       "    </tr>\n",
       "  </tbody>\n",
       "</table>\n",
       "</div>"
      ],
      "text/plain": [
       "                    Filter_name      Filter_location  Amount_water  Pulses\n",
       "Tim                                                                       \n",
       "2020-03-03 18:31:21       Tap 1           ITU Lahore    403.329987     201\n",
       "2020-03-02 20:06:49       Tap 1  Faisal Town B Block    229.000000     114\n",
       "2020-03-02 20:04:49       Tap 1  Faisal Town B Block    242.000000     121\n",
       "2020-03-02 20:05:49       Tap 1  Faisal Town B Block    234.000000     117\n",
       "2020-03-03 18:53:14       Tap 1  Faisal Town B Block    224.000000     112"
      ]
     },
     "execution_count": 18,
     "metadata": {},
     "output_type": "execute_result"
    }
   ],
   "source": [
    "# Water amount that is 150ml above but below 500ml\n",
    "above150water= data_class.waterAmount_150_above()\n",
    "above150water.head()"
   ]
  },
  {
   "cell_type": "code",
   "execution_count": 19,
   "metadata": {},
   "outputs": [
    {
     "data": {
      "image/png": "[encoded data removed]",
      "text/plain": [
       "<Figure size 936x504 with 1 Axes>"
      ]
     },
     "metadata": {
      "needs_background": "light"
     },
     "output_type": "display_data"
    }
   ],
   "source": [
    "plt.figure(figsize= (13, 7))\n",
    "data_class.visualizing_amount_bar(above150water)"
   ]
  },
  {
   "cell_type": "code",
   "execution_count": 20,
   "metadata": {},
   "outputs": [
    {
     "data": {
      "image/png": "[encoded data removed]",
      "text/plain": [
       "<Figure size 792x432 with 1 Axes>"
      ]
     },
     "metadata": {
      "needs_background": "light"
     },
     "output_type": "display_data"
    }
   ],
   "source": [
    "plt.figure(figsize= (11, 6))\n",
    "plt.xticks(rotation= 45)\n",
    "data_class.visualizing_amount_location(above150water)"
   ]
  },
  {
   "cell_type": "markdown",
   "metadata": {},
   "source": [
    "**Question 3.** ```Create a function that checks “Amount_Water” for data that is less\n",
    "than 150ml.```"
   ]
  },
  {
   "cell_type": "code",
   "execution_count": 21,
   "metadata": {},
   "outputs": [
    {
     "data": {
      "text/html": [
       "<div>\n",
       "<style scoped>\n",
       "    .dataframe tbody tr th:only-of-type {\n",
       "        vertical-align: middle;\n",
       "    }\n",
       "\n",
       "    .dataframe tbody tr th {\n",
       "        vertical-align: top;\n",
       "    }\n",
       "\n",
       "    .dataframe thead th {\n",
       "        text-align: right;\n",
       "    }\n",
       "</style>\n",
       "<table border=\"1\" class=\"dataframe\">\n",
       "  <thead>\n",
       "    <tr style=\"text-align: right;\">\n",
       "      <th></th>\n",
       "      <th>Filter_name</th>\n",
       "      <th>Filter_location</th>\n",
       "      <th>Amount_water</th>\n",
       "      <th>Pulses</th>\n",
       "    </tr>\n",
       "    <tr>\n",
       "      <th>Tim</th>\n",
       "      <th></th>\n",
       "      <th></th>\n",
       "      <th></th>\n",
       "      <th></th>\n",
       "    </tr>\n",
       "  </thead>\n",
       "  <tbody>\n",
       "    <tr>\n",
       "      <th>2020-03-02 20:06:38</th>\n",
       "      <td>Tap 1</td>\n",
       "      <td>Faisal Town B Block</td>\n",
       "      <td>98.0</td>\n",
       "      <td>49</td>\n",
       "    </tr>\n",
       "    <tr>\n",
       "      <th>2020-03-02 20:06:39</th>\n",
       "      <td>Tap 1</td>\n",
       "      <td>Faisal Town B Block</td>\n",
       "      <td>98.0</td>\n",
       "      <td>49</td>\n",
       "    </tr>\n",
       "    <tr>\n",
       "      <th>2020-03-02 20:06:40</th>\n",
       "      <td>Tap 1</td>\n",
       "      <td>Faisal Town B Block</td>\n",
       "      <td>98.0</td>\n",
       "      <td>49</td>\n",
       "    </tr>\n",
       "    <tr>\n",
       "      <th>2020-03-02 20:06:41</th>\n",
       "      <td>Tap 1</td>\n",
       "      <td>Faisal Town B Block</td>\n",
       "      <td>98.0</td>\n",
       "      <td>49</td>\n",
       "    </tr>\n",
       "    <tr>\n",
       "      <th>2020-03-02 20:06:42</th>\n",
       "      <td>Tap 1</td>\n",
       "      <td>Faisal Town B Block</td>\n",
       "      <td>98.0</td>\n",
       "      <td>49</td>\n",
       "    </tr>\n",
       "  </tbody>\n",
       "</table>\n",
       "</div>"
      ],
      "text/plain": [
       "                    Filter_name      Filter_location  Amount_water  Pulses\n",
       "Tim                                                                       \n",
       "2020-03-02 20:06:38       Tap 1  Faisal Town B Block          98.0      49\n",
       "2020-03-02 20:06:39       Tap 1  Faisal Town B Block          98.0      49\n",
       "2020-03-02 20:06:40       Tap 1  Faisal Town B Block          98.0      49\n",
       "2020-03-02 20:06:41       Tap 1  Faisal Town B Block          98.0      49\n",
       "2020-03-02 20:06:42       Tap 1  Faisal Town B Block          98.0      49"
      ]
     },
     "execution_count": 21,
     "metadata": {},
     "output_type": "execute_result"
    }
   ],
   "source": [
    "# Amount of water below 150ml\n",
    "lesser_water= data_class.waterAmount_150_less()\n",
    "lesser_water.head()"
   ]
  },
  {
   "cell_type": "code",
   "execution_count": 22,
   "metadata": {
    "scrolled": false
   },
   "outputs": [
    {
     "data": {
      "image/png": "[encoded data removed]",
      "text/plain": [
       "<Figure size 936x504 with 1 Axes>"
      ]
     },
     "metadata": {
      "needs_background": "light"
     },
     "output_type": "display_data"
    }
   ],
   "source": [
    "plt.figure(figsize= (13, 7))\n",
    "data_class.visualizing_amount_bar(lesser_water)"
   ]
  },
  {
   "cell_type": "code",
   "execution_count": 23,
   "metadata": {},
   "outputs": [
    {
     "data": {
      "image/png": "[encoded data removed]",
      "text/plain": [
       "<Figure size 936x504 with 1 Axes>"
      ]
     },
     "metadata": {
      "needs_background": "light"
     },
     "output_type": "display_data"
    }
   ],
   "source": [
    "plt.figure(figsize= (13, 7))\n",
    "plt.xticks(rotation= 45)\n",
    "data_class.visualizing_amount_location(lesser_water)"
   ]
  },
  {
   "cell_type": "markdown",
   "metadata": {},
   "source": [
    "**Question 5.** ```Create a function that checks “Amount_Water” for zeros, and do an\n",
    "imputation to fill up the zeros```"
   ]
  },
  {
   "cell_type": "code",
   "execution_count": 24,
   "metadata": {},
   "outputs": [
    {
     "data": {
      "text/html": [
       "<div>\n",
       "<style scoped>\n",
       "    .dataframe tbody tr th:only-of-type {\n",
       "        vertical-align: middle;\n",
       "    }\n",
       "\n",
       "    .dataframe tbody tr th {\n",
       "        vertical-align: top;\n",
       "    }\n",
       "\n",
       "    .dataframe thead th {\n",
       "        text-align: right;\n",
       "    }\n",
       "</style>\n",
       "<table border=\"1\" class=\"dataframe\">\n",
       "  <thead>\n",
       "    <tr style=\"text-align: right;\">\n",
       "      <th></th>\n",
       "      <th>Filter_name</th>\n",
       "      <th>Filter_location</th>\n",
       "      <th>Amount_water</th>\n",
       "      <th>Pulses</th>\n",
       "    </tr>\n",
       "    <tr>\n",
       "      <th>Tim</th>\n",
       "      <th></th>\n",
       "      <th></th>\n",
       "      <th></th>\n",
       "      <th></th>\n",
       "    </tr>\n",
       "  </thead>\n",
       "  <tbody>\n",
       "    <tr>\n",
       "      <th>2020-03-02 20:05:28</th>\n",
       "      <td>Tap 1</td>\n",
       "      <td>Model Town R Block</td>\n",
       "      <td>0.0</td>\n",
       "      <td>0</td>\n",
       "    </tr>\n",
       "    <tr>\n",
       "      <th>2020-03-02 20:05:27</th>\n",
       "      <td>Tap 1</td>\n",
       "      <td>Model Town R Block</td>\n",
       "      <td>0.0</td>\n",
       "      <td>0</td>\n",
       "    </tr>\n",
       "    <tr>\n",
       "      <th>2020-03-02 20:03:50</th>\n",
       "      <td>Tap 1</td>\n",
       "      <td>Faisal Town B Block</td>\n",
       "      <td>0.0</td>\n",
       "      <td>0</td>\n",
       "    </tr>\n",
       "    <tr>\n",
       "      <th>2020-03-05 07:05:31</th>\n",
       "      <td>Tap 1</td>\n",
       "      <td>Johar Town B1 Block</td>\n",
       "      <td>0.0</td>\n",
       "      <td>0</td>\n",
       "    </tr>\n",
       "    <tr>\n",
       "      <th>2020-03-02 20:05:29</th>\n",
       "      <td>Tap 1</td>\n",
       "      <td>Model Town R Block</td>\n",
       "      <td>0.0</td>\n",
       "      <td>0</td>\n",
       "    </tr>\n",
       "  </tbody>\n",
       "</table>\n",
       "</div>"
      ],
      "text/plain": [
       "                    Filter_name      Filter_location  Amount_water  Pulses\n",
       "Tim                                                                       \n",
       "2020-03-02 20:05:28       Tap 1   Model Town R Block           0.0       0\n",
       "2020-03-02 20:05:27       Tap 1   Model Town R Block           0.0       0\n",
       "2020-03-02 20:03:50       Tap 1  Faisal Town B Block           0.0       0\n",
       "2020-03-05 07:05:31       Tap 1  Johar Town B1 Block           0.0       0\n",
       "2020-03-02 20:05:29       Tap 1   Model Town R Block           0.0       0"
      ]
     },
     "execution_count": 24,
     "metadata": {},
     "output_type": "execute_result"
    }
   ],
   "source": [
    "#Function checking for zero water amount\n",
    "check4zero= data_class.waterAmount_0_values()\n",
    "check4zero.head()"
   ]
  },
  {
   "cell_type": "code",
   "execution_count": 25,
   "metadata": {},
   "outputs": [
    {
     "data": {
      "image/png": "[encoded data removed]",
      "text/plain": [
       "<Figure size 792x504 with 1 Axes>"
      ]
     },
     "metadata": {
      "needs_background": "light"
     },
     "output_type": "display_data"
    }
   ],
   "source": [
    "plt.figure(figsize= (11, 7))\n",
    "data_class.visualizing_location_count(check4zero)"
   ]
  },
  {
   "cell_type": "markdown",
   "metadata": {},
   "source": [
    "**Question 6.** ```Create a function with the title “leaky taps,” what this does is to\n",
    "identify zero values in “Amount_Water” before imputation. The idea is\n",
    "to map zero value to “Filter_Name”```"
   ]
  },
  {
   "cell_type": "code",
   "execution_count": 26,
   "metadata": {
    "scrolled": true
   },
   "outputs": [
    {
     "data": {
      "text/plain": [
       "Tap 4    3286\n",
       "Tap 5    3251\n",
       "Tap 2    3228\n",
       "Tap 6    3191\n",
       "Tap 7    3108\n",
       "Tap 1    2563\n",
       "Name: Filter_name, dtype: int64"
      ]
     },
     "execution_count": 26,
     "metadata": {},
     "output_type": "execute_result"
    }
   ],
   "source": [
    "# Numbers of leaky tap\n",
    "leaky= data_class.leaky_taps()\n",
    "leaky.value_counts()"
   ]
  },
  {
   "cell_type": "code",
   "execution_count": 27,
   "metadata": {
    "scrolled": false
   },
   "outputs": [
    {
     "data": {
      "image/png": "[encoded data removed]",
      "text/plain": [
       "<Figure size 792x504 with 1 Axes>"
      ]
     },
     "metadata": {
      "needs_background": "light"
     },
     "output_type": "display_data"
    }
   ],
   "source": [
    "plt.figure(figsize= (11, 7))\n",
    "data_class.visualizing_location_count(leaky)"
   ]
  },
  {
   "cell_type": "markdown",
   "metadata": {},
   "source": [
    "# Imputation for values in the Data with the Mean of the column"
   ]
  },
  {
   "cell_type": "code",
   "execution_count": 28,
   "metadata": {},
   "outputs": [
    {
     "data": {
      "text/html": [
       "<div>\n",
       "<style scoped>\n",
       "    .dataframe tbody tr th:only-of-type {\n",
       "        vertical-align: middle;\n",
       "    }\n",
       "\n",
       "    .dataframe tbody tr th {\n",
       "        vertical-align: top;\n",
       "    }\n",
       "\n",
       "    .dataframe thead th {\n",
       "        text-align: right;\n",
       "    }\n",
       "</style>\n",
       "<table border=\"1\" class=\"dataframe\">\n",
       "  <thead>\n",
       "    <tr style=\"text-align: right;\">\n",
       "      <th></th>\n",
       "      <th>Filter_name</th>\n",
       "      <th>Filter_location</th>\n",
       "      <th>Amount_water</th>\n",
       "      <th>Pulses</th>\n",
       "    </tr>\n",
       "    <tr>\n",
       "      <th>Tim</th>\n",
       "      <th></th>\n",
       "      <th></th>\n",
       "      <th></th>\n",
       "      <th></th>\n",
       "    </tr>\n",
       "  </thead>\n",
       "  <tbody>\n",
       "    <tr>\n",
       "      <th>2020-03-03 18:31:21</th>\n",
       "      <td>Tap 1</td>\n",
       "      <td>ITU Lahore</td>\n",
       "      <td>403.329987</td>\n",
       "      <td>201</td>\n",
       "    </tr>\n",
       "    <tr>\n",
       "      <th>2020-03-02 20:06:38</th>\n",
       "      <td>Tap 1</td>\n",
       "      <td>Faisal Town B Block</td>\n",
       "      <td>98.000000</td>\n",
       "      <td>49</td>\n",
       "    </tr>\n",
       "    <tr>\n",
       "      <th>2020-03-02 20:06:39</th>\n",
       "      <td>Tap 1</td>\n",
       "      <td>Faisal Town B Block</td>\n",
       "      <td>98.000000</td>\n",
       "      <td>49</td>\n",
       "    </tr>\n",
       "    <tr>\n",
       "      <th>2020-03-02 20:06:40</th>\n",
       "      <td>Tap 1</td>\n",
       "      <td>Faisal Town B Block</td>\n",
       "      <td>98.000000</td>\n",
       "      <td>49</td>\n",
       "    </tr>\n",
       "    <tr>\n",
       "      <th>2020-03-02 20:06:41</th>\n",
       "      <td>Tap 1</td>\n",
       "      <td>Faisal Town B Block</td>\n",
       "      <td>98.000000</td>\n",
       "      <td>49</td>\n",
       "    </tr>\n",
       "  </tbody>\n",
       "</table>\n",
       "</div>"
      ],
      "text/plain": [
       "                    Filter_name      Filter_location  Amount_water  Pulses\n",
       "Tim                                                                       \n",
       "2020-03-03 18:31:21       Tap 1           ITU Lahore    403.329987     201\n",
       "2020-03-02 20:06:38       Tap 1  Faisal Town B Block     98.000000      49\n",
       "2020-03-02 20:06:39       Tap 1  Faisal Town B Block     98.000000      49\n",
       "2020-03-02 20:06:40       Tap 1  Faisal Town B Block     98.000000      49\n",
       "2020-03-02 20:06:41       Tap 1  Faisal Town B Block     98.000000      49"
      ]
     },
     "execution_count": 28,
     "metadata": {},
     "output_type": "execute_result"
    }
   ],
   "source": [
    "#New data after filling the zero values with the mean\n",
    "newdata= data_class.fill_waterAmount_of_0_values()\n",
    "newdata.head()"
   ]
  }
 ],
 "metadata": {
  "kernelspec": {
   "display_name": "Python 3",
   "language": "python",
   "name": "python3"
  },
  "language_info": {
   "codemirror_mode": {
    "name": "ipython",
    "version": 3
   },
   "file_extension": ".py",
   "mimetype": "text/x-python",
   "name": "python",
   "nbconvert_exporter": "python",
   "pygments_lexer": "ipython3",
   "version": "3.7.4"
  }
 },
 "nbformat": 4,
 "nbformat_minor": 4
}
